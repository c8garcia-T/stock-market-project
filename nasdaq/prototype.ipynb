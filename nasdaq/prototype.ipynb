{
 "cells": [
  {
   "cell_type": "markdown",
   "metadata": {},
   "source": [
    "# Status: Working"
   ]
  },
  {
   "cell_type": "markdown",
   "metadata": {},
   "source": [
    " TO DO:\n",
    " - Handle Errors Approriately "
   ]
  },
  {
   "cell_type": "code",
   "execution_count": 216,
   "metadata": {},
   "outputs": [],
   "source": [
    "from selenium import webdriver\n",
    "from selenium.webdriver.common.by import By\n",
    "from selenium.webdriver.support.wait import WebDriverWait\n",
    "from selenium.webdriver import ActionChains\n",
    "import os\n",
    "from selenium.common.exceptions import ElementClickInterceptedException"
   ]
  },
  {
   "cell_type": "code",
   "execution_count": 217,
   "metadata": {},
   "outputs": [],
   "source": [
    "SAVE_IMG = os.getcwd()+\"/image.png\""
   ]
  },
  {
   "cell_type": "code",
   "execution_count": 218,
   "metadata": {},
   "outputs": [],
   "source": [
    "EXPECTED_NASDAQ_FILTER_VALUE = \"exchange~NASDAQ\"\n",
    "STOCK_SCREENER_URL = \"https://www.nasdaq.com/market-activity/stocks/screener\""
   ]
  },
  {
   "cell_type": "code",
   "execution_count": 219,
   "metadata": {},
   "outputs": [],
   "source": [
    "options = webdriver.ChromeOptions()\n",
    "options.page_load_strategy= \"eager\"\n",
    "assert options.capabilities['browserName'] == 'chrome'\n",
    "preferences = {\"download.default_directory\":os.getcwd()}\n",
    "options.add_experimental_option(\"prefs\",preferences)\n",
    "options.add_argument(\"--start-maximized\")\n",
    "driver = webdriver.Chrome(options=options)\n",
    "driver.implicitly_wait(7)\n",
    "driver.get(STOCK_SCREENER_URL)\n"
   ]
  },
  {
   "cell_type": "code",
   "execution_count": 220,
   "metadata": {},
   "outputs": [],
   "source": [
    "shadowNASDAQFilterParentElement = driver.find_element(By.ID,\"exchange-radio-group-id\")\n",
    "shadowRootNASDAQFilter = driver.execute_script(\"return arguments[0].shadowRoot\", shadowNASDAQFilterParentElement)\n",
    "nasdaqRadioButton= shadowRootNASDAQFilter.find_element(By.ID, \"option-NASDAQ\")\n",
    "nasdaqRadioButton.click()"
   ]
  },
  {
   "cell_type": "code",
   "execution_count": 221,
   "metadata": {},
   "outputs": [],
   "source": [
    "filterParentElement = driver.find_element(By.CLASS_NAME,\"jupiter22-c-filter-button-container\")\n",
    "applyFilterElement = filterParentElement.find_element(By.CLASS_NAME ,\"jupiter22-c-button__apply\")\n",
    "try:\n",
    "    applyFilterElement.click()    \n",
    "except ElementClickInterceptedException:\n",
    "    footer = driver.find_element(By.TAG_NAME, \"footer\")\n",
    "    delta_y = int(footer.rect['y'])\n",
    "    ActionChains(driver).scroll_to_element(applyFilterElement).pause(1).scroll_by_amount(0, delta_y).pause(1).scroll_to_element(applyFilterElement).perform()\n",
    "    applyFilterElement.click()"
   ]
  },
  {
   "cell_type": "code",
   "execution_count": 222,
   "metadata": {},
   "outputs": [],
   "source": [
    "filtersAppliedParentElement = driver.find_element(By.CLASS_NAME,\"jupiter22-c-table-filters__filters\")\n",
    "foundFilterElements = filtersAppliedParentElement.find_elements(By.CLASS_NAME,\"jupiter22-c-table-filters__chip\")\n",
    "foundFilterAttributes = list(map(lambda x: x.get_attribute(\"data-filter\"),foundFilterElements))\n",
    "if ((foundFilterAttributes.__len__() ==1) & (foundFilterAttributes[0]==EXPECTED_NASDAQ_FILTER_VALUE)):\n",
    "    pass\n",
    "else:\n",
    "    raise Exception(\"FILTER NOT FOUND: \",EXPECTED_NASDAQ_FILTER_VALUE)"
   ]
  },
  {
   "cell_type": "code",
   "execution_count": 224,
   "metadata": {},
   "outputs": [],
   "source": [
    "downloadCSVElement = driver.find_element(By.CLASS_NAME,\"jupiter22-c-table__download-csv\")\n",
    "downloadCSVElement.click()"
   ]
  },
  {
   "cell_type": "code",
   "execution_count": 225,
   "metadata": {},
   "outputs": [
    {
     "name": "stdout",
     "output_type": "stream",
     "text": [
      "Download Successful!\n"
     ]
    }
   ],
   "source": [
    "wait = WebDriverWait(driver, timeout=14, poll_frequency=1)\n",
    "isSuccess = wait.until(lambda done : 1==sum(map(lambda x : \".csv\" in x,os.listdir(os.getcwd()))),\"File not found in Expected Directory\")\n",
    "print(\"Download Successful!\") if isSuccess else print(\"Download Failed!\")"
   ]
  },
  {
   "cell_type": "code",
   "execution_count": 226,
   "metadata": {},
   "outputs": [],
   "source": [
    "driver.close()"
   ]
  }
 ],
 "metadata": {
  "kernelspec": {
   "display_name": ".env",
   "language": "python",
   "name": "python3"
  },
  "language_info": {
   "codemirror_mode": {
    "name": "ipython",
    "version": 3
   },
   "file_extension": ".py",
   "mimetype": "text/x-python",
   "name": "python",
   "nbconvert_exporter": "python",
   "pygments_lexer": "ipython3",
   "version": "3.9.18"
  }
 },
 "nbformat": 4,
 "nbformat_minor": 2
}
